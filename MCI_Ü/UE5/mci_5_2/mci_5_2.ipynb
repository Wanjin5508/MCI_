{
 "cells": [
  {
   "cell_type": "markdown",
   "metadata": {},
   "source": [
    "# Aufgabe 1\n",
    "\n",
    "Korrelationskoeffizient nach Pearson berechnen sowie das Bestimmtheitsmaß für den Zusammenhang ID zu durchschnittliche Messzeit. Interpretieren."
   ]
  },
  {
   "cell_type": "code",
   "execution_count": 38,
   "metadata": {},
   "outputs": [
    {
     "name": "stdout",
     "output_type": "stream",
     "text": [
      "   ID    AVG\n",
      "0   1  264,8\n",
      "1   2    308\n",
      "2   3  392,8\n",
      "3   4  572,8\n",
      "4   5    756\n",
      "   ID    AVG\n",
      "0   1  307,8\n",
      "1   2  307,1\n",
      "2   3  396,9\n",
      "3   4  526,4\n",
      "4   5  717,2\n",
      "<class 'pandas.core.frame.DataFrame'>\n",
      "RangeIndex: 30 entries, 0 to 29\n",
      "Data columns (total 2 columns):\n",
      " #   Column  Non-Null Count  Dtype \n",
      "---  ------  --------------  ----- \n",
      " 0   ID      30 non-null     int64 \n",
      " 1   AVG     30 non-null     object\n",
      "dtypes: int64(1), object(1)\n",
      "memory usage: 608.0+ bytes\n",
      "None\n"
     ]
    }
   ],
   "source": [
    "import pandas as pd \n",
    "\n",
    "\n",
    "mouse = pd.read_csv('Testdaten_Mouse.csv', delimiter=\";\")\n",
    "touch = pd.read_csv(\"Testdaten_Touchpad.csv\", delimiter=\";\")\n",
    "\n",
    "print(mouse.head())\n",
    "print(touch.head())\n",
    "\n",
    "print(mouse.info())"
   ]
  },
  {
   "cell_type": "code",
   "execution_count": 39,
   "metadata": {},
   "outputs": [
    {
     "name": "stdout",
     "output_type": "stream",
     "text": [
      "   ID    AVG\n",
      "0   1  264.8\n",
      "1   2    308\n",
      "2   3  392.8\n",
      "3   4  572.8\n",
      "4   5    756\n"
     ]
    }
   ],
   "source": [
    "mouse['AVG'] = mouse['AVG'].str.replace(\",\", \".\")\n",
    "print(mouse.head())"
   ]
  },
  {
   "cell_type": "code",
   "execution_count": 40,
   "metadata": {},
   "outputs": [
    {
     "name": "stdout",
     "output_type": "stream",
     "text": [
      "   ID    AVG\n",
      "0   1  307.8\n",
      "1   2  307.1\n",
      "2   3  396.9\n",
      "3   4  526.4\n",
      "4   5  717.2\n"
     ]
    }
   ],
   "source": [
    "touch['AVG'] = touch['AVG'].str.replace(\",\", \".\")\n",
    "print(touch.head())"
   ]
  },
  {
   "cell_type": "code",
   "execution_count": 41,
   "metadata": {},
   "outputs": [
    {
     "name": "stdout",
     "output_type": "stream",
     "text": [
      "<class 'pandas.core.frame.DataFrame'>\n",
      "RangeIndex: 30 entries, 0 to 29\n",
      "Data columns (total 2 columns):\n",
      " #   Column  Non-Null Count  Dtype  \n",
      "---  ------  --------------  -----  \n",
      " 0   ID      30 non-null     int64  \n",
      " 1   AVG     30 non-null     float64\n",
      "dtypes: float64(1), int64(1)\n",
      "memory usage: 608.0 bytes\n",
      "None\n",
      "    ID    AVG\n",
      "0    1  264.8\n",
      "1    2  308.0\n",
      "2    3  392.8\n",
      "3    4  572.8\n",
      "4    5  756.0\n",
      "5    6  774.4\n",
      "6    1  193.6\n",
      "7    2  272.8\n",
      "8    3  300.8\n",
      "9    4  449.6\n",
      "10   5  518.4\n",
      "11   6  810.4\n",
      "12   1  183.2\n",
      "13   2  257.7\n",
      "14   3  386.4\n",
      "15   4  449.6\n",
      "16   5  608.5\n",
      "17   6  614.8\n",
      "18   1  516.8\n",
      "19   2  488.0\n",
      "20   3  540.8\n",
      "21   4  603.2\n",
      "22   5  656.0\n",
      "23   6  712.8\n",
      "24   1  361.1\n",
      "25   2  273.2\n",
      "26   3  452.8\n",
      "27   4  521.6\n",
      "28   5  592.8\n",
      "29   6  700.0\n"
     ]
    }
   ],
   "source": [
    "mouse['AVG'] = mouse['AVG'].astype(float)\n",
    "print(mouse.info())\n",
    "print(mouse)"
   ]
  },
  {
   "cell_type": "code",
   "execution_count": 42,
   "metadata": {},
   "outputs": [
    {
     "name": "stdout",
     "output_type": "stream",
     "text": [
      "<class 'pandas.core.frame.DataFrame'>\n",
      "RangeIndex: 30 entries, 0 to 29\n",
      "Data columns (total 2 columns):\n",
      " #   Column  Non-Null Count  Dtype  \n",
      "---  ------  --------------  -----  \n",
      " 0   ID      30 non-null     int64  \n",
      " 1   AVG     30 non-null     float64\n",
      "dtypes: float64(1), int64(1)\n",
      "memory usage: 608.0 bytes\n",
      "None\n",
      "    ID     AVG\n",
      "0    1   307.8\n",
      "1    2   307.1\n",
      "2    3   396.9\n",
      "3    4   526.4\n",
      "4    5   717.2\n",
      "5    6   857.9\n",
      "6    1   275.3\n",
      "7    2   324.7\n",
      "8    3   345.3\n",
      "9    4   476.3\n",
      "10   5   690.0\n",
      "11   6   727.1\n",
      "12   1   391.1\n",
      "13   2   483.7\n",
      "14   3   532.3\n",
      "15   4   670.4\n",
      "16   5   883.1\n",
      "17   6  1028.4\n",
      "18   1   245.9\n",
      "19   2   302.2\n",
      "20   3   548.4\n",
      "21   4   661.2\n",
      "22   5   820.9\n",
      "23   6   870.6\n",
      "24   1   263.1\n",
      "25   2   391.6\n",
      "26   3   525.9\n",
      "27   4   577.1\n",
      "28   5   702.4\n",
      "29   6   968.3\n"
     ]
    }
   ],
   "source": [
    "touch['AVG'] = touch['AVG'].astype(float)\n",
    "print(touch.info())\n",
    "print(touch)"
   ]
  },
  {
   "cell_type": "markdown",
   "metadata": {},
   "source": [
    "# Aufgabe 2\n",
    "\n",
    ". Koeffizienten der Regressionsgraden bestimmen"
   ]
  },
  {
   "cell_type": "code",
   "execution_count": 43,
   "metadata": {},
   "outputs": [
    {
     "name": "stdout",
     "output_type": "stream",
     "text": [
      "0.8633773277811395 \n",
      " 0.9289729361862555\n"
     ]
    }
   ],
   "source": [
    "import numpy as np\n",
    "import matplotlib.pyplot as plt \n",
    "corr_mouse = np.corrcoef(mouse['ID'], mouse['AVG'])[0, 1]\n",
    "corr_touch = np.corrcoef(touch['ID'], touch['AVG'])[0, 1]\n",
    "\n",
    "print(corr_mouse, '\\n',corr_touch) # * Korrelationskoeffizienz"
   ]
  },
  {
   "cell_type": "code",
   "execution_count": 44,
   "metadata": {},
   "outputs": [
    {
     "name": "stdout",
     "output_type": "stream",
     "text": [
      "Bestimmtheitsmaß von mouse: 0.7454204101265012, \n",
      "Bestimmheitsmaß von touchpad: 0.8629907161665128\n"
     ]
    }
   ],
   "source": [
    "# * Bestimmtheitsmaß\n",
    "r_2_mouse = corr_mouse * corr_mouse\n",
    "r_2_touch = corr_touch * corr_touch\n",
    "\n",
    "print(f'Bestimmtheitsmaß von mouse: {r_2_mouse}, \\nBestimmheitsmaß von touchpad: {r_2_touch}')"
   ]
  },
  {
   "cell_type": "code",
   "execution_count": 45,
   "metadata": {},
   "outputs": [
    {
     "data": {
      "image/png": "[encoded data removed]",
      "text/plain": [
       "<Figure size 640x480 with 1 Axes>"
      ]
     },
     "metadata": {},
     "output_type": "display_data"
    }
   ],
   "source": [
    "# scatter plot of mouse data\n",
    "plt.scatter(mouse['ID'], mouse['AVG'])\n",
    "plt.show()"
   ]
  },
  {
   "cell_type": "code",
   "execution_count": 46,
   "metadata": {},
   "outputs": [
    {
     "data": {
      "image/png": "[encoded data removed]",
      "text/plain": [
       "<Figure size 640x480 with 1 Axes>"
      ]
     },
     "metadata": {},
     "output_type": "display_data"
    }
   ],
   "source": [
    "plt.scatter(touch['ID'], touch['AVG'])\n",
    "plt.show()"
   ]
  },
  {
   "cell_type": "code",
   "execution_count": 47,
   "metadata": {},
   "outputs": [
    {
     "name": "stdout",
     "output_type": "stream",
     "text": [
      "[172.78266667] [[89.04971429]]\n"
     ]
    }
   ],
   "source": [
    "from sklearn.linear_model import LinearRegression\n",
    "X_mouse = mouse['ID'].values.reshape(-1, 1)\n",
    "y_mouse = mouse['AVG'].values.reshape(-1, 1)\n",
    "\n",
    "reg_mouse = LinearRegression()\n",
    "reg_mouse.fit(X_mouse, y_mouse)\n",
    "\n",
    "print(reg_mouse.intercept_, reg_mouse.coef_)\n"
   ]
  },
  {
   "cell_type": "code",
   "execution_count": 48,
   "metadata": {},
   "outputs": [
    {
     "name": "stdout",
     "output_type": "stream",
     "text": [
      "[132.2] [[122.40571429]]\n"
     ]
    }
   ],
   "source": [
    "X_touch = touch['ID'].values.reshape(-1, 1)\n",
    "y_touch = touch['AVG'].values.reshape(-1, 1)\n",
    "\n",
    "reg_touch = LinearRegression()\n",
    "reg_touch.fit(X_touch, y_touch)\n",
    "\n",
    "print(reg_touch.intercept_, reg_touch.coef_)"
   ]
  },
  {
   "cell_type": "markdown",
   "metadata": {},
   "source": [
    "# Aufgabe 3\n",
    "\n",
    " t-Statistiken berechnen und Signifikanz der Regression\n",
    "anhand der t-Verteilungstabelle für 𝛼 = 0,05 bewerten"
   ]
  },
  {
   "cell_type": "markdown",
   "metadata": {},
   "source": [
    "## 1) am beispeil von mouse\n",
    "\n",
    "$H_0: b_1=0, kein\\ Zusammenhang$\n",
    "\n",
    "$H_1: b_1\\neq 0$\n",
    "\n",
    "Ergebnis der Herleitung:\n",
    "\n",
    "$$\n",
    "t_{n-2} = \\frac{b_1*\\sqrt{n-2}}{\\sqrt{\\frac{\\sum{(y_i-\\widehat{y})^2}}{\\sum{(x_i - \\overline{x})^2}}}}\n",
    "$$"
   ]
  },
  {
   "cell_type": "code",
   "execution_count": 55,
   "metadata": {},
   "outputs": [
    {
     "name": "stdout",
     "output_type": "stream",
     "text": [
      "[[1]\n",
      " [2]\n",
      " [3]\n",
      " [4]\n",
      " [5]\n",
      " [6]]\n",
      "[[261.83238095]\n",
      " [350.88209524]\n",
      " [439.93180952]\n",
      " [528.98152381]\n",
      " [618.0312381 ]\n",
      " [707.08095238]]\n"
     ]
    }
   ],
   "source": [
    "b_1 = corr_mouse\n",
    "n = 6\n",
    "\n",
    "x = np.array([1, 2, 3, 4, 5, 6]).reshape(-1, 1)\n",
    "y_hut = reg_mouse.predict(x)\n",
    "\n",
    "#up = b_1 * np.sqrt(n-2)\n",
    "((np.array(mouse['AVG']) - y_hut) ** 2).sum() / \n",
    "\n"
   ]
  },
  {
   "cell_type": "code",
   "execution_count": 52,
   "metadata": {},
   "outputs": [
    {
     "name": "stdout",
     "output_type": "stream",
     "text": [
      "range(1, 7)\n"
     ]
    }
   ],
   "source": []
  },
  {
   "cell_type": "code",
   "execution_count": null,
   "metadata": {},
   "outputs": [],
   "source": []
  }
 ],
 "metadata": {
  "kernelspec": {
   "display_name": "base",
   "language": "python",
   "name": "python3"
  },
  "language_info": {
   "codemirror_mode": {
    "name": "ipython",
    "version": 3
   },
   "file_extension": ".py",
   "mimetype": "text/x-python",
   "name": "python",
   "nbconvert_exporter": "python",
   "pygments_lexer": "ipython3",
   "version": "3.10.9"
  }
 },
 "nbformat": 4,
 "nbformat_minor": 2
}
